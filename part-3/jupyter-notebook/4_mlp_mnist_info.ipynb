{
 "cells": [
  {
   "cell_type": "code",
   "execution_count": null,
   "id": "eb6edca7",
   "metadata": {},
   "outputs": [],
   "source": [
    "import torch\n",
    "from torch import nn\n",
    "import torch.nn.functional as F\n",
    "from torchvision import datasets, transforms\n",
    "import argparse"
   ]
  },
  {
   "cell_type": "code",
   "execution_count": null,
   "id": "ca5385e7",
   "metadata": {},
   "outputs": [],
   "source": [
    "# enable GPU\n",
    "if torch.cuda.is_available():\n",
    "    device = torch.device('cuda')\n",
    "else:\n",
    "    device = torch.device('cpu')\n",
    "    \n",
    "print('Using PyTorch version:', torch.__version__, ' Device:', device)"
   ]
  },
  {
   "cell_type": "code",
   "execution_count": null,
   "id": "db55ae4d",
   "metadata": {},
   "outputs": [],
   "source": [
    "# Build a simple MLP to train on MNIST\n",
    "model = nn.Sequential(\n",
    "    nn.Linear(784, 512),\n",
    "    nn.ReLU(),\n",
    "    nn.Linear(512, 10),\n",
    "    # nn.ReLU(),\n",
    "    # nn.Linear(256, 10),\n",
    "    nn.LogSoftmax(dim=1)\n",
    ").to(device)"
   ]
  },
  {
   "cell_type": "code",
   "execution_count": null,
   "id": "98399b1d",
   "metadata": {},
   "outputs": [],
   "source": [
    "# Load the training data\n",
    "train_loader = torch.utils.data.DataLoader(\n",
    "    datasets.MNIST('data', train=True, download=True,\n",
    "                     transform=transforms.Compose([\n",
    "                            transforms.ToTensor(),\n",
    "                            transforms.Normalize((0.5,), (0.5,))\n",
    "                        ])),\n",
    "    batch_size=64, shuffle=False)    \n",
    "\n",
    "# Load the test data\n",
    "test_loader = torch.utils.data.DataLoader(\n",
    "    datasets.MNIST('data', train=False, transform=transforms.Compose([\n",
    "                            transforms.ToTensor(),\n",
    "                            transforms.Normalize((0.5,), (0.5,))\n",
    "                        ])),\n",
    "    batch_size=64, shuffle=True)"
   ]
  },
  {
   "cell_type": "code",
   "execution_count": null,
   "id": "1889f686",
   "metadata": {},
   "outputs": [],
   "source": [
    "# Define the optimizer\n",
    "optimizer = torch.optim.SGD(model.parameters(), lr=0.01)\n",
    "\n",
    "# Define the loss function\n",
    "criterion = nn.NLLLoss()"
   ]
  },
  {
   "cell_type": "code",
   "execution_count": null,
   "id": "ab956576",
   "metadata": {},
   "outputs": [],
   "source": [
    "# Train the model\n",
    "def train(epoch):\n",
    "    model.train()\n",
    "    for batch_idx, (data, target) in enumerate(train_loader):\n",
    "        data = data.view(-1, 784)\n",
    "        data, target = data.to(device), target.to(device)\n",
    "        optimizer.zero_grad()\n",
    "        output = model(data)\n",
    "        loss = criterion(output, target)\n",
    "        loss.backward()\n",
    "        optimizer.step()\n",
    "        if batch_idx % 100 == 0:\n",
    "            print('Train Epoch: {} [{}/{} ({:.0f}%)]\\tLoss: {:.6f}'.format(\n",
    "                epoch, batch_idx * len(data), len(train_loader.dataset),\n",
    "                100. * batch_idx / len(train_loader), loss.item()))"
   ]
  },
  {
   "cell_type": "code",
   "execution_count": null,
   "id": "27038af5",
   "metadata": {},
   "outputs": [],
   "source": [
    "# Test the model\n",
    "def test():\n",
    "    model.eval()\n",
    "    test_loss = 0\n",
    "    correct = 0\n",
    "    with torch.no_grad():\n",
    "        for data, target in test_loader:\n",
    "            data = data.view(-1, 784)\n",
    "            data, target = data.to(device), target.to(device)\n",
    "            output = model(data)\n",
    "            test_loss += criterion(output, target).item()\n",
    "            pred = output.data.max(1, keepdim=True)[1]\n",
    "            correct += pred.eq(target.data.view_as(pred)).sum()\n",
    "\n",
    "    test_loss /= len(test_loader.dataset)\n",
    "    print('Test set: Average loss: {:.4f}, Accuracy: {}/{} ({:.0f}%) '.format(\n",
    "        test_loss, correct, len(test_loader.dataset),\n",
    "        100. * correct / len(test_loader.dataset)))"
   ]
  },
  {
   "cell_type": "code",
   "execution_count": null,
   "id": "8eca6bff",
   "metadata": {},
   "outputs": [],
   "source": [
    "# main python function\n",
    "if __name__ == '__main__':\n",
    "\n",
    "    # parse the command line arguments\n",
    "    parser = argparse.ArgumentParser(description='PyTorch MNIST Example')\n",
    "    parser.add_argument('--epochs', type=int, default=10, metavar='N',\n",
    "                        help='number of epochs to train (default: 10)')\n",
    "    \n",
    "    # argument for training only\n",
    "    parser.add_argument('--train', action='store_true', default=False,\n",
    "                        help='train the model')\n",
    "    \n",
    "    # argument for testing only\n",
    "    parser.add_argument('--test', action='store_true', default=False,\n",
    "                        help='test the model')\n",
    "    \n",
    "    # argument to print the model\n",
    "    parser.add_argument('--print', action='store_true', default=False,\n",
    "                        help='print the model')\n",
    "    \n",
    "    # argument to print the model and trainable parameters\n",
    "    parser.add_argument('--info', action='store_true', default=False,\n",
    "                        help='print the model info')\n",
    "    "
   ]
  },
  {
   "cell_type": "code",
   "execution_count": null,
   "id": "427ef781",
   "metadata": {},
   "outputs": [],
   "source": [
    "    #     args = parser.parse_args()\n",
    "    # This is a notebook. So you have to put the arguments hard-coded      \n",
    "    args = parser.parse_args(\"--print\".split())"
   ]
  },
  {
   "cell_type": "code",
   "execution_count": null,
   "id": "5fb8fcb8",
   "metadata": {},
   "outputs": [],
   "source": [
    "    # train the model\n",
    "    if args.train:\n",
    "        for epoch in range(1, args.epochs + 1):\n",
    "            train(epoch)\n",
    "            test()\n",
    "        # save the model\n",
    "        torch.save(model.state_dict(), \"mlp_mnist.pt\")\n",
    "\n",
    "    # test the model\n",
    "    if args.test:\n",
    "        model.load_state_dict(torch.load(\"mlp_mnist.pt\"))\n",
    "        test()\n",
    "        \n",
    "    # print the model\n",
    "    if args.print:\n",
    "        print(model)\n",
    "\n",
    "    # print the model info\n",
    "    if args.info:\n",
    "        print(model)\n",
    "        print('Model Info')\n",
    "        for name, param in model.named_parameters():\n",
    "            print(name, param.shape)\n",
    "        print('Trainable parameters:\\n',sum(p.numel() for p in model.parameters() if p.requires_grad))\n",
    "        "
   ]
  }
 ],
 "metadata": {
  "kernelspec": {
   "display_name": "Python 3 (ipykernel)",
   "language": "python",
   "name": "python3"
  },
  "language_info": {
   "codemirror_mode": {
    "name": "ipython",
    "version": 3
   },
   "file_extension": ".py",
   "mimetype": "text/x-python",
   "name": "python",
   "nbconvert_exporter": "python",
   "pygments_lexer": "ipython3",
   "version": "3.8.10"
  }
 },
 "nbformat": 4,
 "nbformat_minor": 5
}
